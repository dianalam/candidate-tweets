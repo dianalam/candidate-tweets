{
 "cells": [
  {
   "cell_type": "code",
   "execution_count": 351,
   "metadata": {
    "collapsed": true
   },
   "outputs": [],
   "source": [
    "import requests\n",
    "from bs4 import BeautifulSoup\n",
    "import re\n",
    "import pandas as pd\n",
    "import pickle"
   ]
  },
  {
   "cell_type": "markdown",
   "metadata": {},
   "source": [
    "### 1. Get debate page urls and dates by party."
   ]
  },
  {
   "cell_type": "code",
   "execution_count": 5,
   "metadata": {
    "collapsed": true
   },
   "outputs": [],
   "source": [
    "def get_page(url):\n",
    "    \"\"\"\n",
    "    Gets movie page as soup object for the provided url.\n",
    "    Args:\n",
    "        url (str): url of movie page\n",
    "    Returns:\n",
    "        movie_page (soup object): html of movie page\n",
    "    \"\"\"\n",
    "    page = BeautifulSoup(requests.get(url).text, \"lxml\")\n",
    "    return page"
   ]
  },
  {
   "cell_type": "code",
   "execution_count": 160,
   "metadata": {
    "collapsed": true
   },
   "outputs": [],
   "source": [
    "main_page = get_page('http://www.presidency.ucsb.edu/debates.php')"
   ]
  },
  {
   "cell_type": "code",
   "execution_count": 204,
   "metadata": {
    "collapsed": false
   },
   "outputs": [],
   "source": [
    "dates = []\n",
    "description = []\n",
    "links = []\n",
    "\n",
    "for row in main_page.select('.docdate'):\n",
    "    try:\n",
    "        if row.text[0].isalpha():\n",
    "            dates.append(row.text)\n",
    "    except:\n",
    "        continue\n",
    "        \n",
    "for row in main_page.select('.doctext'):\n",
    "    description.append(row.text)\n",
    "    try:\n",
    "        links.append(row.find('a').get('href'))\n",
    "    except:\n",
    "        links.append('')"
   ]
  },
  {
   "cell_type": "code",
   "execution_count": 256,
   "metadata": {
    "collapsed": false
   },
   "outputs": [],
   "source": [
    "links_df = pd.DataFrame({'date' : dates, 'desc' : description, 'url' : links})"
   ]
  },
  {
   "cell_type": "markdown",
   "metadata": {},
   "source": [
    "### 2. Get debate text by candidate, party, and date."
   ]
  },
  {
   "cell_type": "code",
   "execution_count": 328,
   "metadata": {
    "collapsed": false
   },
   "outputs": [],
   "source": [
    "def loopUntilB(text, firstElement):\n",
    "    \"\"\"Get all text through next specified tag.\"\"\"\n",
    "    try:\n",
    "        text += firstElement.string.strip()\n",
    "    except:\n",
    "        text += ''\n",
    "    nextBTag = firstElement.find_next('b')\n",
    "    if (firstElement.next.next == nextBTag):             \n",
    "        return text\n",
    "    try:\n",
    "        return loopUntilB(text, firstElement.next)\n",
    "    except:\n",
    "        return loopUntilB(text, firstElement.next.next)"
   ]
  },
  {
   "cell_type": "code",
   "execution_count": 339,
   "metadata": {
    "collapsed": false
   },
   "outputs": [],
   "source": [
    "def get_all_debates(url_dict, candidate_list):\n",
    "    \"\"\"Get all debate text by candidate and date.\"\"\"\n",
    "    dates = []\n",
    "    candidates = []\n",
    "    text = []\n",
    "    regex = '|'.join(candidate_list)\n",
    "    for date in url_dict:\n",
    "        soup = get_page(url_dict[date])\n",
    "        cand_results = soup.find_all(text = re.compile(regex))\n",
    "        for spiel in cand_results:\n",
    "            dates.append(date)\n",
    "            candidates.append(spiel[ : -1])\n",
    "            text.append(loopUntilB('', spiel.next))\n",
    "    return {'date' : dates, 'candidate' : candidates, 'text' : text}"
   ]
  },
  {
   "cell_type": "code",
   "execution_count": 273,
   "metadata": {
    "collapsed": false,
    "scrolled": true
   },
   "outputs": [],
   "source": [
    "dem_urls = {pd.to_datetime(row.date):row.url for ind, row in links_df[6:12].iterrows()}\n",
    "gop_urls = {pd.to_datetime(row.date):row.url for ind, row in links_df[15:25].iterrows()}\n",
    "dem_cands = ['CLINTON', 'SANDERS']\n",
    "gop_cands = ['TRUMP', 'CRUZ', 'RUBIO', 'CARSON', 'KASICH']"
   ]
  },
  {
   "cell_type": "code",
   "execution_count": 343,
   "metadata": {
    "collapsed": false
   },
   "outputs": [],
   "source": [
    "dem_debates = get_all_debates(dem_urls, dem_cands)\n",
    "gop_debates = get_all_debates(gop_urls, gop_cands)"
   ]
  },
  {
   "cell_type": "code",
   "execution_count": 352,
   "metadata": {
    "collapsed": true
   },
   "outputs": [],
   "source": [
    "with open('transcripts/dem_debates.pkl', 'w') as picklefile:\n",
    "    pickle.dump(dem_debates, picklefile)\n",
    "    \n",
    "with open('transcripts/gop_debates.pkl', 'w') as picklefile:\n",
    "    pickle.dump(gop_debates, picklefile)"
   ]
  }
 ],
 "metadata": {
  "kernelspec": {
   "display_name": "Python 2",
   "language": "python",
   "name": "python2"
  },
  "language_info": {
   "codemirror_mode": {
    "name": "ipython",
    "version": 2
   },
   "file_extension": ".py",
   "mimetype": "text/x-python",
   "name": "python",
   "nbconvert_exporter": "python",
   "pygments_lexer": "ipython2",
   "version": "2.7.11"
  }
 },
 "nbformat": 4,
 "nbformat_minor": 0
}
