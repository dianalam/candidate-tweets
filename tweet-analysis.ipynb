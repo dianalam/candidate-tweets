{
 "cells": [
  {
   "cell_type": "markdown",
   "metadata": {},
   "source": [
    "### Table of Contents  \n",
    "[1. Import data](#1)  \n",
    "[2. Exploratory data analysis](#2)  \n",
    "[3. Add features](#3)  \n",
    "[4. Tf-idf/cluster](#4)  "
   ]
  },
  {
   "cell_type": "code",
   "execution_count": 438,
   "metadata": {
    "collapsed": false
   },
   "outputs": [],
   "source": [
    "import pickle\n",
    "import pandas as pd\n",
    "import numpy as np\n",
    "import seaborn as sns\n",
    "import matplotlib.pyplot as plt\n",
    "import re\n",
    "import string\n",
    "from textblob import TextBlob as blob\n",
    "\n",
    "# sentiment analysis\n",
    "from textblob.sentiments import NaiveBayesAnalyzer\n",
    "from pattern.en import sentiment, mood, modality, wordnet, ADJECTIVE\n",
    "\n",
    "# text parsing\n",
    "from nltk.corpus import stopwords\n",
    "from nltk.stem import WordNetLemmatizer\n",
    "from nltk.stem.porter import PorterStemmer\n",
    "from spacy.en import English, STOPWORDS\n",
    "from nltk.tokenize import sent_tokenize, word_tokenize\n",
    "\n",
    "# modeling\n",
    "from sklearn.feature_extraction.text import CountVectorizer, TfidfTransformer, TfidfVectorizer\n",
    "from sklearn.cluster import KMeans\n",
    "\n",
    "%matplotlib inline"
   ]
  },
  {
   "cell_type": "markdown",
   "metadata": {},
   "source": [
    "### <a id='1'></a> 1. Import data and convert to df"
   ]
  },
  {
   "cell_type": "code",
   "execution_count": 91,
   "metadata": {
    "collapsed": true
   },
   "outputs": [],
   "source": [
    "with open('tweets/donald_tweets.pkl', 'r') as picklefile:\n",
    "    dt_data = pickle.load(picklefile)\n",
    "\n",
    "with open('tweets/hillary_tweets.pkl', 'r') as picklefile:\n",
    "    hc_data = pickle.load(picklefile)\n",
    "    \n",
    "with open('tweets/bernie_tweets.pkl', 'r') as picklefile:\n",
    "    bs_data = pickle.load(picklefile)\n",
    "    \n",
    "with open('tweets/cruz_tweets.pkl', 'r') as picklefile:\n",
    "    tc_data = pickle.load(picklefile)\n",
    "\n",
    "with open('tweets/rubio_tweets.pkl', 'r') as picklefile:\n",
    "    mr_data = pickle.load(picklefile)"
   ]
  },
  {
   "cell_type": "code",
   "execution_count": 95,
   "metadata": {
    "collapsed": false
   },
   "outputs": [],
   "source": [
    "def data_to_df(data, name):\n",
    "    \"\"\"Convert list object of tweet data into dataframe; keep only important columns.\"\"\"\n",
    "    # variables explained: https://dev.twitter.com/overview/api/tweets\n",
    "    df = pd.DataFrame(data)\n",
    "    df.drop_duplicates(subset = 'id', inplace = True)\n",
    "    keep = ['id', 'created_at', 'text', \n",
    "            'favorite_count', 'retweet_count', \n",
    "            'coordinates', 'place', \n",
    "            'is_quote_status', 'quoted_status', 'quoted_status_id', \n",
    "            'in_reply_to_screen_name', 'in_reply_to_status_id', \n",
    "            'entities']\n",
    "    df = df[keep]\n",
    "    df['candidate'] = name\n",
    "    return df\n",
    "\n",
    "# rm = ['extended_entities', 'contributors', 'favorited', 'id_str', 'lang', 'geo', \n",
    "#       'in_reply_to_status_id_str', 'in_reply_to_user_id', 'in_reply_to_user_id_str', \n",
    "#       'source', 'retweeted', 'retweeted_status', 'truncated', 'user', 'possibly_sensitive', \n",
    "#       'quoted_status_id_str']"
   ]
  },
  {
   "cell_type": "code",
   "execution_count": 96,
   "metadata": {
    "collapsed": false
   },
   "outputs": [],
   "source": [
    "dt = data_to_df(dt_data, 'trump')\n",
    "hc = data_to_df(hc_data, 'clinton')\n",
    "bs = data_to_df(bs_data, 'sanders')\n",
    "tc = data_to_df(tc_data, 'cruz')\n",
    "mr = data_to_df(mr_data, 'rubio')"
   ]
  },
  {
   "cell_type": "code",
   "execution_count": 143,
   "metadata": {
    "collapsed": true
   },
   "outputs": [],
   "source": [
    "tweets = pd.concat([dt, hc, bs, tc, mr], ignore_index = True)"
   ]
  },
  {
   "cell_type": "markdown",
   "metadata": {},
   "source": [
    "###  <a id='2'></a>2. Exploratory data analysis - candidate metadata"
   ]
  },
  {
   "cell_type": "code",
   "execution_count": null,
   "metadata": {
    "collapsed": true
   },
   "outputs": [],
   "source": [
    "by_cand = tweets.groupby('candidate')"
   ]
  },
  {
   "cell_type": "code",
   "execution_count": 138,
   "metadata": {
    "collapsed": false,
    "scrolled": true
   },
   "outputs": [
    {
     "name": "stdout",
     "output_type": "stream",
     "text": [
      "           favorite_count  retweet_count\n",
      "candidate                               \n",
      "clinton       1239.042144     770.490548\n",
      "cruz           254.283442     327.395073\n",
      "rubio          251.075843     188.861111\n",
      "sanders       1978.685039    1249.021417\n",
      "trump         4265.950510    1777.918961\n"
     ]
    }
   ],
   "source": [
    "favs = by_cand[['favorite_count', 'retweet_count']].mean()\n",
    "print favs"
   ]
  },
  {
   "cell_type": "code",
   "execution_count": 137,
   "metadata": {
    "collapsed": false
   },
   "outputs": [
    {
     "data": {
      "image/png": "[encoded data removed]",
      "text/plain": [
       "<matplotlib.figure.Figure at 0x13f872050>"
      ]
     },
     "metadata": {},
     "output_type": "display_data"
    }
   ],
   "source": [
    "plt.figure(figsize = (8, 5))\n",
    "sns.barplot(favs.index, 'favorite_count', data = favs)\n",
    "plt.title('mean favorites per tweet by candidate', fontsize = 14)\n",
    "plt.show()"
   ]
  },
  {
   "cell_type": "code",
   "execution_count": 135,
   "metadata": {
    "collapsed": false
   },
   "outputs": [
    {
     "data": {
      "image/png": "[encoded data removed]",
      "text/plain": [
       "<matplotlib.figure.Figure at 0x13f358810>"
      ]
     },
     "metadata": {},
     "output_type": "display_data"
    }
   ],
   "source": [
    "plt.figure(figsize = (8, 5))\n",
    "sns.barplot(favs.index, 'retweet_count', data = favs)\n",
    "plt.title('mean retweets per tweet by candidate', fontsize = 14)\n",
    "plt.show()"
   ]
  },
  {
   "cell_type": "markdown",
   "metadata": {},
   "source": [
    "###  <a id='3'></a>3. Add nlp features"
   ]
  },
  {
   "cell_type": "markdown",
   "metadata": {},
   "source": [
    "Add sentiment, modality, and mood scores."
   ]
  },
  {
   "cell_type": "code",
   "execution_count": 144,
   "metadata": {
    "collapsed": true
   },
   "outputs": [],
   "source": [
    "# pattern/textblob sentiment reference: http://www.clips.ua.ac.be/pages/pattern-en#sentiment\n",
    "\"\"\"\n",
    "modality > 0.5 = fact\n",
    "mood = indicative (fact, belief), imperative (command, warning), conditional (conjecture), subjunctive (wish, opinion)\n",
    "sentiments = (polarity, subjectivity)\n",
    "\"\"\"\n"
   ]
  },
  {
   "cell_type": "markdown",
   "metadata": {},
   "source": [
    "Define functions to tokenize."
   ]
  },
  {
   "cell_type": "code",
   "execution_count": 348,
   "metadata": {
    "collapsed": false
   },
   "outputs": [],
   "source": [
    "def get_sentences(text):\n",
    "    sents = sent_tokenize(text)\n",
    "    return [sent for sent in sents if re.search('[a-zA-Z]', sent) != None]\n",
    "\n",
    "def get_sentences2(text):\n",
    "    \"\"\"Get number of sentences per review.\"\"\"\n",
    "    # add 1 at the end for last punctuation \n",
    "    return re.split(\". |! |? \", text)\n",
    "#     return text.count('. ') + text.count('! ') + text.count('? ') + text.count(') ') + \\\n",
    "#             text.count('.\\n') + text.count('!\\n') + text.count('?\\n') + text.count(')\\n') + 1.0"
   ]
  },
  {
   "cell_type": "code",
   "execution_count": 346,
   "metadata": {
    "collapsed": true
   },
   "outputs": [],
   "source": [
    "def get_polarity(sents):\n",
    "    \"\"\"Returns average polarity score for sentences in text.\"\"\"\n",
    "    return np.mean([sentiment(x)[0] for x in sents])\n",
    "\n",
    "def get_is_fact(sents):\n",
    "    \"\"\"Returns average modality score for sentences in text.\"\"\"\n",
    "    return np.mean([modality(x) for x in sents])"
   ]
  },
  {
   "cell_type": "code",
   "execution_count": 347,
   "metadata": {
    "collapsed": false
   },
   "outputs": [
    {
     "name": "stdout",
     "output_type": "stream",
     "text": [
      "0.75\n"
     ]
    }
   ],
   "source": [
    "print get_is_fact(t4)"
   ]
  },
  {
   "cell_type": "code",
   "execution_count": 338,
   "metadata": {
    "collapsed": false
   },
   "outputs": [
    {
     "data": {
      "text/plain": [
       "(0.0, 0.0)"
      ]
     },
     "execution_count": 338,
     "metadata": {},
     "output_type": "execute_result"
    }
   ],
   "source": [
    "sentiment(t4)"
   ]
  },
  {
   "cell_type": "code",
   "execution_count": 239,
   "metadata": {
    "collapsed": true
   },
   "outputs": [],
   "source": [
    "# def tokenize_only(text):\n",
    "#     # first tokenize by sentence, then by word to ensure that punctuation is caught as it's own token\n",
    "#     tokens = [word.lower() for sent in sent_tokenize(text) for word in word_tokenize(sent)]\n",
    "#     filtered_tokens = []\n",
    "#     # filter out any tokens not containing letters (e.g., numeric tokens, raw punctuation)\n",
    "#     for token in tokens:\n",
    "#         if re.search('[a-zA-Z]', token):\n",
    "#             filtered_tokens.append(token)\n",
    "#     return filtered_tokens"
   ]
  },
  {
   "cell_type": "code",
   "execution_count": 382,
   "metadata": {
    "collapsed": true
   },
   "outputs": [],
   "source": [
    "# def get_clean_tokens(text):  \n",
    "#     \"\"\"Return tokens for each review; exclude stop words and lemmatize.\"\"\"\n",
    "#     # letters_only = re.sub(\"[^a-zA-Z]\", \" \", text) \n",
    "#     words = ' '.join(text.lower().split())\n",
    "#     #words = ' '.join(split_text.lower().split())\n",
    "#     tokens = [token.lemma_ for token in nlp(words)]\n",
    "#     filtered = [t for t in tokens if t not in stop and t != '' and t != ' ' and t != '\\n' and t != '\\n\\n']\n",
    "#     return ' '.join(filtered)\n",
    "\n",
    "def get_tokens(text):  \n",
    "    \"\"\"Return lemmatized tokens for each review.\"\"\"\n",
    "    text = re.sub(r\"http\\S+\", \"\", text) # remove urls\n",
    "    letters_only = re.sub(\"[^a-zA-Z]\", \" \", text) # remove non alpha characters\n",
    "    words = ' '.join(letters_only.lower().split())\n",
    "    try:\n",
    "        tokens = [token.lemma_ for token in nlp(words)] # get lemmas\n",
    "    except:\n",
    "        tokens = [token.lemma_ for token in nlp(words.decode('utf8'))] # get lemmas\n",
    "    filtered = [t for t in tokens if t != '' and t != ' ' and t != '\\n' and t != '\\n\\n'] # remove any remaining spaces\n",
    "    return ' '.join(filtered)"
   ]
  },
  {
   "cell_type": "code",
   "execution_count": 352,
   "metadata": {
    "collapsed": true
   },
   "outputs": [],
   "source": [
    "def get_features(df):\n",
    "    # add sentences\n",
    "    %time df.loc[:, 'sentences'] = df.loc[:, 'text'].apply(get_sentences)\n",
    "    \n",
    "    # add tokens\n",
    "    %time df.loc[:, 'tokens'] = df.loc[:, 'text'].apply(get_tokens)\n",
    "    \n",
    "    # add sentiment, modality, and mood scores \n",
    "    %time df.loc[:, 'sentiment'] = df.loc[:, 'sentences'].apply(get_polarity)\n",
    "    %time df.loc[:, 'mood'] = df.loc[:, 'text'].apply(mood)\n",
    "    %time df.loc[:, 'modality'] = df.loc[:, 'sentences'].apply(get_is_fact)\n",
    "\n",
    "    return df"
   ]
  },
  {
   "cell_type": "code",
   "execution_count": 207,
   "metadata": {
    "collapsed": true
   },
   "outputs": [],
   "source": [
    "nlp = English()"
   ]
  },
  {
   "cell_type": "code",
   "execution_count": 214,
   "metadata": {
    "collapsed": false
   },
   "outputs": [],
   "source": [
    "stop = STOPWORDS\n",
    "punct = {p for p in string.punctuation if p != '@' and p != '#'}"
   ]
  },
  {
   "cell_type": "code",
   "execution_count": 178,
   "metadata": {
    "collapsed": false
   },
   "outputs": [
    {
     "name": "stdout",
     "output_type": "stream",
     "text": [
      "0.75\n",
      "indicative\n",
      "(0.0, 0.0)\n",
      "(-0.625, 0.875)\n"
     ]
    }
   ],
   "source": [
    "print modality(test)\n",
    "print mood(test)\n",
    "print sentiment(test)\n",
    "print wordnet.synsets('sad', ADJECTIVE)[0].weight # for single words only "
   ]
  },
  {
   "cell_type": "markdown",
   "metadata": {},
   "source": [
    "Process tweets df."
   ]
  },
  {
   "cell_type": "code",
   "execution_count": 394,
   "metadata": {
    "collapsed": false
   },
   "outputs": [
    {
     "name": "stdout",
     "output_type": "stream",
     "text": [
      "CPU times: user 1.77 s, sys: 166 ms, total: 1.94 s\n",
      "Wall time: 2.14 s\n",
      "CPU times: user 24.8 s, sys: 737 ms, total: 25.5 s\n",
      "Wall time: 27.4 s\n",
      "CPU times: user 6.74 s, sys: 159 ms, total: 6.9 s\n",
      "Wall time: 7.31 s\n",
      "CPU times: user 54.6 s, sys: 604 ms, total: 55.2 s\n",
      "Wall time: 57.3 s\n",
      "CPU times: user 59.7 s, sys: 323 ms, total: 1min\n",
      "Wall time: 1min\n"
     ]
    },
    {
     "name": "stderr",
     "output_type": "stream",
     "text": [
      "//anaconda/lib/python2.7/site-packages/numpy/core/_methods.py:59: RuntimeWarning: Mean of empty slice.\n",
      "  warnings.warn(\"Mean of empty slice.\", RuntimeWarning)\n"
     ]
    }
   ],
   "source": [
    "tweets2 = get_features(tweets)"
   ]
  },
  {
   "cell_type": "code",
   "execution_count": 396,
   "metadata": {
    "collapsed": false
   },
   "outputs": [],
   "source": [
    "by_cand = tweets2.groupby('candidate')"
   ]
  },
  {
   "cell_type": "code",
   "execution_count": 407,
   "metadata": {
    "collapsed": false
   },
   "outputs": [
    {
     "data": {
      "text/plain": [
       "candidate\n",
       "clinton    242.871402\n",
       "cruz       275.265931\n",
       "rubio      403.753458\n",
       "sanders    191.709655\n",
       "trump      440.747906\n",
       "Name: sentiment, dtype: float64"
      ]
     },
     "execution_count": 407,
     "metadata": {},
     "output_type": "execute_result"
    }
   ],
   "source": [
    "total_sentiment = by_cand['sentiment'].sum()\n",
    "total_sentiment"
   ]
  },
  {
   "cell_type": "code",
   "execution_count": 408,
   "metadata": {
    "collapsed": false
   },
   "outputs": [
    {
     "data": {
      "text/plain": [
       "<matplotlib.axes._subplots.AxesSubplot at 0x14ffe2f50>"
      ]
     },
     "execution_count": 408,
     "metadata": {},
     "output_type": "execute_result"
    },
    {
     "data": {
      "image/png": "[encoded data removed]",
      "text/plain": [
       "<matplotlib.figure.Figure at 0x14f8aa990>"
      ]
     },
     "metadata": {},
     "output_type": "display_data"
    }
   ],
   "source": [
    "sns.barplot(total_sentiment.index, total_sentiment.values)"
   ]
  },
  {
   "cell_type": "code",
   "execution_count": 409,
   "metadata": {
    "collapsed": false
   },
   "outputs": [
    {
     "data": {
      "text/plain": [
       "candidate\n",
       "clinton    0.075286\n",
       "cruz       0.085833\n",
       "rubio      0.126015\n",
       "sanders    0.060381\n",
       "trump      0.136328\n",
       "Name: sentiment, dtype: float64"
      ]
     },
     "execution_count": 409,
     "metadata": {},
     "output_type": "execute_result"
    }
   ],
   "source": [
    "avg_sentiment = by_cand['sentiment'].mean()\n",
    "avg_sentiment"
   ]
  },
  {
   "cell_type": "code",
   "execution_count": 410,
   "metadata": {
    "collapsed": false
   },
   "outputs": [
    {
     "data": {
      "text/plain": [
       "<matplotlib.axes._subplots.AxesSubplot at 0x151bc6810>"
      ]
     },
     "execution_count": 410,
     "metadata": {},
     "output_type": "execute_result"
    },
    {
     "data": {
      "image/png": "[encoded data removed]",
      "text/plain": [
       "<matplotlib.figure.Figure at 0x151bda0d0>"
      ]
     },
     "metadata": {},
     "output_type": "display_data"
    }
   ],
   "source": [
    "sns.barplot(avg_sentiment.index, avg_sentiment.values)"
   ]
  },
  {
   "cell_type": "markdown",
   "metadata": {},
   "source": [
    "Investigate mood"
   ]
  },
  {
   "cell_type": "code",
   "execution_count": 402,
   "metadata": {
    "collapsed": false
   },
   "outputs": [
    {
     "data": {
      "text/plain": [
       "<matplotlib.axes._subplots.AxesSubplot at 0x14f8112d0>"
      ]
     },
     "execution_count": 402,
     "metadata": {},
     "output_type": "execute_result"
    },
    {
     "data": {
      "image/png": "[encoded data removed]",
      "text/plain": [
       "<matplotlib.figure.Figure at 0x14fed5bd0>"
      ]
     },
     "metadata": {},
     "output_type": "display_data"
    }
   ],
   "source": [
    "plt.figure(figsize = (10, 6))\n",
    "sns.countplot('candidate', data = tweets2, hue = 'mood')"
   ]
  },
  {
   "cell_type": "markdown",
   "metadata": {},
   "source": [
    "### <a id='4'></a>4. Get tf-idf matrix"
   ]
  },
  {
   "cell_type": "code",
   "execution_count": 420,
   "metadata": {
    "collapsed": true
   },
   "outputs": [],
   "source": [
    "count_vectorizer = CountVectorizer(analyzer = \"word\",   \\\n",
    "                             tokenizer = None,    \\\n",
    "                             preprocessor = None, \\\n",
    "                             stop_words = 'english', \\\n",
    "                             max_features = 500) "
   ]
  },
  {
   "cell_type": "code",
   "execution_count": 484,
   "metadata": {
    "collapsed": true
   },
   "outputs": [],
   "source": [
    "tfidf_vectorizer = TfidfVectorizer(max_df = 0.8, max_features = 200000,\n",
    "                                 min_df = 5, stop_words = 'english',\n",
    "                                 use_idf = True, tokenizer = None, ngram_range=(4, 4))"
   ]
  },
  {
   "cell_type": "code",
   "execution_count": 485,
   "metadata": {
    "collapsed": false,
    "scrolled": true
   },
   "outputs": [
    {
     "name": "stdout",
     "output_type": "stream",
     "text": [
      "CPU times: user 778 ms, sys: 27.8 ms, total: 806 ms\n",
      "Wall time: 805 ms\n"
     ]
    }
   ],
   "source": [
    "%time tfidf_matrix = tfidf_vectorizer.fit_transform(tweets2.tokens) \n",
    "tfidf_terms = tfidf_vectorizer.get_feature_names()"
   ]
  },
  {
   "cell_type": "code",
   "execution_count": 421,
   "metadata": {
    "collapsed": false
   },
   "outputs": [
    {
     "name": "stdout",
     "output_type": "stream",
     "text": [
      "CPU times: user 340 ms, sys: 33.9 ms, total: 374 ms\n",
      "Wall time: 374 ms\n"
     ]
    }
   ],
   "source": [
    "%time count_matrix = count_vectorizer.fit_transform(tweets2.tokens)"
   ]
  },
  {
   "cell_type": "code",
   "execution_count": 439,
   "metadata": {
    "collapsed": false
   },
   "outputs": [],
   "source": [
    "\n",
    "count_words = count_vectorizer.get_feature_names()"
   ]
  },
  {
   "cell_type": "markdown",
   "metadata": {},
   "source": [
    "### 5. kmeans clustering"
   ]
  },
  {
   "cell_type": "code",
   "execution_count": 489,
   "metadata": {
    "collapsed": false
   },
   "outputs": [],
   "source": [
    "def get_clusters(tfidf_matrix, true_k = 5):\n",
    "    \"\"\"Fit kmeans cluster model and print clusters given text vector. Return model.\"\"\"\n",
    "    km = KMeans(n_clusters = true_k)\n",
    "    km.fit(tfidf_matrix)\n",
    "    clusters = km.labels_.tolist()\n",
    "    order_centroids = km.cluster_centers_.argsort()[:, ::-1]\n",
    "    for i in range(true_k):\n",
    "        print \"Cluster %d:\" % i\n",
    "        for ind in order_centroids[i, :10]:\n",
    "            print tfidf_terms[ind], ' ',\n",
    "        print '\\n'\n",
    "    return km"
   ]
  },
  {
   "cell_type": "code",
   "execution_count": 491,
   "metadata": {
    "collapsed": false
   },
   "outputs": [
    {
     "name": "stdout",
     "output_type": "stream",
     "text": [
      "Cluster 0:\n",
      "break big fail bank   work long hour low   ia hour iacaucus cruzintocaucus   hour week live poverty   hillary clinton vision just   high impact thing help   help spread message voter   help raise flag new   help celebrate birthday click   help amplify bernie message   \n",
      "\n",
      "Cluster 1:\n",
      "rt teammarco watch marcorubio   rt trscoop ted cruz   equal pay equal work   rt hillaryfornh watch live   watch live hillary speak   health care right privilege   defeat radical islamic terrorism   pay family medical leave   rt morning joe berniesanders   border security national security   \n",
      "\n",
      "Cluster 2:\n",
      "tell friend hillary clinton   rt need tell friend   need tell friend hillary   guarantee health care right   hillary clinton vision just   high impact thing help   help spread message voter   help raise flag new   help celebrate birthday click   help amplify bernie message   \n",
      "\n",
      "Cluster 3:\n",
      "new american century click   ready new american century   american century click gt   work long hour low   gun stop bad guy   hillary clinton vision just   high impact thing help   help spread message voter   help raise flag new   help celebrate birthday click   \n",
      "\n",
      "Cluster 4:\n",
      "rt cbs jack new   work long hour low   guarantee health care right   hillary clinton vision just   high impact thing help   help spread message voter   help raise flag new   help celebrate birthday click   help amplify bernie message   health care right privilege   \n",
      "\n"
     ]
    },
    {
     "data": {
      "text/plain": [
       "KMeans(copy_x=True, init='k-means++', max_iter=300, n_clusters=5, n_init=10,\n",
       "    n_jobs=1, precompute_distances='auto', random_state=None, tol=0.0001,\n",
       "    verbose=0)"
      ]
     },
     "execution_count": 491,
     "metadata": {},
     "output_type": "execute_result"
    }
   ],
   "source": [
    "get_clusters(tfidf_matrix)"
   ]
  },
  {
   "cell_type": "code",
   "execution_count": null,
   "metadata": {
    "collapsed": true
   },
   "outputs": [],
   "source": []
  }
 ],
 "metadata": {
  "kernelspec": {
   "display_name": "Python 2",
   "language": "python",
   "name": "python2"
  },
  "language_info": {
   "codemirror_mode": {
    "name": "ipython",
    "version": 2
   },
   "file_extension": ".py",
   "mimetype": "text/x-python",
   "name": "python",
   "nbconvert_exporter": "python",
   "pygments_lexer": "ipython2",
   "version": "2.7.11"
  }
 },
 "nbformat": 4,
 "nbformat_minor": 0
}
