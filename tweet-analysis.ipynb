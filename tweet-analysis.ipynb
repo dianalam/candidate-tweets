{
 "cells": [
  {
   "cell_type": "code",
   "execution_count": 209,
   "metadata": {
    "collapsed": false
   },
   "outputs": [],
   "source": [
    "import pickle\n",
    "import pandas as pd\n",
    "import seaborn as sns\n",
    "import matplotlib.pyplot as plt\n",
    "import re\n",
    "import string\n",
    "from textblob import TextBlob as blob\n",
    "\n",
    "# sentiment analysis\n",
    "from textblob.sentiments import NaiveBayesAnalyzer\n",
    "from pattern.en import sentiment, mood, modality, wordnet, ADJECTIVE\n",
    "\n",
    "# text parsing\n",
    "from nltk.corpus import stopwords\n",
    "from nltk.stem import WordNetLemmatizer\n",
    "from nltk.stem.porter import PorterStemmer\n",
    "from spacy.en import English, STOPWORDS\n",
    "\n",
    "# modeling\n",
    "from sklearn.feature_extraction.text import CountVectorizer, TfidfTransformer\n",
    "\n",
    "%matplotlib inline"
   ]
  },
  {
   "cell_type": "markdown",
   "metadata": {},
   "source": [
    "### 1. Import data and convert to df"
   ]
  },
  {
   "cell_type": "code",
   "execution_count": 91,
   "metadata": {
    "collapsed": true
   },
   "outputs": [],
   "source": [
    "with open('tweets/donald_tweets.pkl', 'r') as picklefile:\n",
    "    dt_data = pickle.load(picklefile)\n",
    "\n",
    "with open('tweets/hillary_tweets.pkl', 'r') as picklefile:\n",
    "    hc_data = pickle.load(picklefile)\n",
    "    \n",
    "with open('tweets/bernie_tweets.pkl', 'r') as picklefile:\n",
    "    bs_data = pickle.load(picklefile)\n",
    "    \n",
    "with open('tweets/cruz_tweets.pkl', 'r') as picklefile:\n",
    "    tc_data = pickle.load(picklefile)\n",
    "\n",
    "with open('tweets/rubio_tweets.pkl', 'r') as picklefile:\n",
    "    mr_data = pickle.load(picklefile)"
   ]
  },
  {
   "cell_type": "code",
   "execution_count": 95,
   "metadata": {
    "collapsed": false
   },
   "outputs": [],
   "source": [
    "def data_to_df(data, name):\n",
    "    \"\"\"Convert list object of tweet data into dataframe; keep only important columns.\"\"\"\n",
    "    # variables explained: https://dev.twitter.com/overview/api/tweets\n",
    "    df = pd.DataFrame(data)\n",
    "    df.drop_duplicates(subset = 'id', inplace = True)\n",
    "    keep = ['id', 'created_at', 'text', \n",
    "            'favorite_count', 'retweet_count', \n",
    "            'coordinates', 'place', \n",
    "            'is_quote_status', 'quoted_status', 'quoted_status_id', \n",
    "            'in_reply_to_screen_name', 'in_reply_to_status_id', \n",
    "            'entities']\n",
    "    df = df[keep]\n",
    "    df['candidate'] = name\n",
    "    return df\n",
    "\n",
    "# rm = ['extended_entities', 'contributors', 'favorited', 'id_str', 'lang', 'geo', \n",
    "#       'in_reply_to_status_id_str', 'in_reply_to_user_id', 'in_reply_to_user_id_str', \n",
    "#       'source', 'retweeted', 'retweeted_status', 'truncated', 'user', 'possibly_sensitive', \n",
    "#       'quoted_status_id_str']"
   ]
  },
  {
   "cell_type": "code",
   "execution_count": 96,
   "metadata": {
    "collapsed": false
   },
   "outputs": [],
   "source": [
    "dt = data_to_df(dt_data, 'trump')\n",
    "hc = data_to_df(hc_data, 'clinton')\n",
    "bs = data_to_df(bs_data, 'sanders')\n",
    "tc = data_to_df(tc_data, 'cruz')\n",
    "mr = data_to_df(mr_data, 'rubio')"
   ]
  },
  {
   "cell_type": "code",
   "execution_count": 143,
   "metadata": {
    "collapsed": true
   },
   "outputs": [],
   "source": [
    "tweets = pd.concat([dt, hc, bs, tc, mr], ignore_index = True)"
   ]
  },
  {
   "cell_type": "markdown",
   "metadata": {},
   "source": [
    "### 2. Exploratory data analysis - candidate metadata"
   ]
  },
  {
   "cell_type": "code",
   "execution_count": null,
   "metadata": {
    "collapsed": true
   },
   "outputs": [],
   "source": [
    "by_cand = tweets.groupby('candidate')"
   ]
  },
  {
   "cell_type": "code",
   "execution_count": 138,
   "metadata": {
    "collapsed": false,
    "scrolled": true
   },
   "outputs": [
    {
     "name": "stdout",
     "output_type": "stream",
     "text": [
      "           favorite_count  retweet_count\n",
      "candidate                               \n",
      "clinton       1239.042144     770.490548\n",
      "cruz           254.283442     327.395073\n",
      "rubio          251.075843     188.861111\n",
      "sanders       1978.685039    1249.021417\n",
      "trump         4265.950510    1777.918961\n"
     ]
    }
   ],
   "source": [
    "favs = by_cand[['favorite_count', 'retweet_count']].mean()\n",
    "print favs"
   ]
  },
  {
   "cell_type": "code",
   "execution_count": 137,
   "metadata": {
    "collapsed": false
   },
   "outputs": [
    {
     "data": {
      "image/png": "[encoded data removed]",
      "text/plain": [
       "<matplotlib.figure.Figure at 0x13f872050>"
      ]
     },
     "metadata": {},
     "output_type": "display_data"
    }
   ],
   "source": [
    "plt.figure(figsize = (8, 5))\n",
    "sns.barplot(favs.index, 'favorite_count', data = favs)\n",
    "plt.title('mean favorites per tweet by candidate', fontsize = 14)\n",
    "plt.show()"
   ]
  },
  {
   "cell_type": "code",
   "execution_count": 135,
   "metadata": {
    "collapsed": false
   },
   "outputs": [
    {
     "data": {
      "image/png": "[encoded data removed]",
      "text/plain": [
       "<matplotlib.figure.Figure at 0x13f358810>"
      ]
     },
     "metadata": {},
     "output_type": "display_data"
    }
   ],
   "source": [
    "plt.figure(figsize = (8, 5))\n",
    "sns.barplot(favs.index, 'retweet_count', data = favs)\n",
    "plt.title('mean retweets per tweet by candidate', fontsize = 14)\n",
    "plt.show()"
   ]
  },
  {
   "cell_type": "markdown",
   "metadata": {},
   "source": [
    "### 3. Add nlp features"
   ]
  },
  {
   "cell_type": "markdown",
   "metadata": {},
   "source": [
    "Add sentiment, modality, and mood scores."
   ]
  },
  {
   "cell_type": "code",
   "execution_count": 144,
   "metadata": {
    "collapsed": true
   },
   "outputs": [],
   "source": [
    "# pattern/textblob sentiment reference: http://www.clips.ua.ac.be/pages/pattern-en#sentiment\n",
    "\"\"\"\n",
    "modality > 0.5 = fact\n",
    "mood = indicative (fact, belief), imperative (command, warning), conditional (conjecture), subjunctive (wish, opinion)\n",
    "sentiments = (polarity, subjectivity)\n",
    "\"\"\"\n"
   ]
  },
  {
   "cell_type": "markdown",
   "metadata": {},
   "source": [
    "Define functions to tokenize."
   ]
  },
  {
   "cell_type": "code",
   "execution_count": 224,
   "metadata": {
    "collapsed": true
   },
   "outputs": [],
   "source": [
    "def get_clean_tokens(text):  \n",
    "    \"\"\"Return tokens for each review; exclude stop words and lemmatize.\"\"\"\n",
    "    # letters_only = re.sub(\"[^a-zA-Z]\", \" \", text) \n",
    "    words = ' '.join(text.lower().split())\n",
    "    #words = ' '.join(split_text.lower().split())\n",
    "    tokens = [token.lemma_ for token in nlp(words)]\n",
    "    filtered = [t for t in tokens if t not in stop and t != '' and t != ' ' and t != '\\n' and t != '\\n\\n']\n",
    "    return ' '.join(filtered)"
   ]
  },
  {
   "cell_type": "code",
   "execution_count": 195,
   "metadata": {
    "collapsed": true
   },
   "outputs": [],
   "source": [
    "def get_features(df):\n",
    "    # add sentiment, modality, and mood scores \n",
    "    df['sentiment'] = df.text.apply(lambda x: sentiment(x)[0])\n",
    "    df['mood'] = df.text.apply(mood)\n",
    "    df['modality'] = df.text.apply(modality)\n",
    "    \n",
    "    return df"
   ]
  },
  {
   "cell_type": "code",
   "execution_count": 207,
   "metadata": {
    "collapsed": true
   },
   "outputs": [],
   "source": [
    "nlp = English()"
   ]
  },
  {
   "cell_type": "code",
   "execution_count": 213,
   "metadata": {
    "collapsed": false
   },
   "outputs": [
    {
     "data": {
      "text/plain": [
       "'!\"#$%&\\'()*+,-./:;<=>?@[\\\\]^_`{|}~'"
      ]
     },
     "execution_count": 213,
     "metadata": {},
     "output_type": "execute_result"
    }
   ],
   "source": [
    "string.punctuation"
   ]
  },
  {
   "cell_type": "code",
   "execution_count": 214,
   "metadata": {
    "collapsed": false
   },
   "outputs": [],
   "source": [
    "stop = STOPWORDS\n",
    "punct = {p for p in string.punctuation if p != '@' and p != '#'}"
   ]
  },
  {
   "cell_type": "code",
   "execution_count": 205,
   "metadata": {
    "collapsed": true
   },
   "outputs": [],
   "source": [
    "single = tweets.loc[1, 'text']"
   ]
  },
  {
   "cell_type": "code",
   "execution_count": 225,
   "metadata": {
    "collapsed": false
   },
   "outputs": [
    {
     "name": "stdout",
     "output_type": "stream",
     "text": [
      "In all of television- the only one who said anything bad about last nights landslide victory-- was dopey @KarlRove. He should be fired!\n",
      "television- bad night landslide victory-- dopey @karlrove . !\n"
     ]
    }
   ],
   "source": [
    "print single\n",
    "print get_clean_tokens(single)"
   ]
  },
  {
   "cell_type": "code",
   "execution_count": 196,
   "metadata": {
    "collapsed": false
   },
   "outputs": [],
   "source": [
    "test = tweets.loc[:10, :]"
   ]
  },
  {
   "cell_type": "code",
   "execution_count": 198,
   "metadata": {
    "collapsed": false
   },
   "outputs": [
    {
     "data": {
      "text/html": [
       "<div>\n",
       "<table border=\"1\" class=\"dataframe\">\n",
       "  <thead>\n",
       "    <tr style=\"text-align: right;\">\n",
       "      <th></th>\n",
       "      <th>id</th>\n",
       "      <th>created_at</th>\n",
       "      <th>text</th>\n",
       "      <th>favorite_count</th>\n",
       "      <th>retweet_count</th>\n",
       "      <th>coordinates</th>\n",
       "      <th>place</th>\n",
       "      <th>is_quote_status</th>\n",
       "      <th>quoted_status</th>\n",
       "      <th>quoted_status_id</th>\n",
       "      <th>in_reply_to_screen_name</th>\n",
       "      <th>in_reply_to_status_id</th>\n",
       "      <th>entities</th>\n",
       "      <th>candidate</th>\n",
       "      <th>sentiment</th>\n",
       "      <th>mood</th>\n",
       "      <th>modality</th>\n",
       "    </tr>\n",
       "  </thead>\n",
       "  <tbody>\n",
       "    <tr>\n",
       "      <th>0</th>\n",
       "      <td>702561529447763968</td>\n",
       "      <td>Wed Feb 24 18:31:36 +0000 2016</td>\n",
       "      <td>MAKE AMERICA GREAT AGAIN! https://t.co/IVSR0hmh5g</td>\n",
       "      <td>4493</td>\n",
       "      <td>1917</td>\n",
       "      <td>None</td>\n",
       "      <td>None</td>\n",
       "      <td>False</td>\n",
       "      <td>NaN</td>\n",
       "      <td>NaN</td>\n",
       "      <td>None</td>\n",
       "      <td>NaN</td>\n",
       "      <td>{u'symbols': [], u'user_mentions': [], u'hasht...</td>\n",
       "      <td>trump</td>\n",
       "      <td>1.000000</td>\n",
       "      <td>imperative</td>\n",
       "      <td>1.00</td>\n",
       "    </tr>\n",
       "    <tr>\n",
       "      <th>1</th>\n",
       "      <td>702560558269202433</td>\n",
       "      <td>Wed Feb 24 18:27:44 +0000 2016</td>\n",
       "      <td>In all of television- the only one who said an...</td>\n",
       "      <td>3695</td>\n",
       "      <td>1127</td>\n",
       "      <td>None</td>\n",
       "      <td>None</td>\n",
       "      <td>False</td>\n",
       "      <td>NaN</td>\n",
       "      <td>NaN</td>\n",
       "      <td>None</td>\n",
       "      <td>NaN</td>\n",
       "      <td>{u'symbols': [], u'user_mentions': [{u'indices...</td>\n",
       "      <td>trump</td>\n",
       "      <td>-0.233333</td>\n",
       "      <td>conditional</td>\n",
       "      <td>0.45</td>\n",
       "    </tr>\n",
       "    <tr>\n",
       "      <th>2</th>\n",
       "      <td>702542084776001537</td>\n",
       "      <td>Wed Feb 24 17:14:20 +0000 2016</td>\n",
       "      <td>I am in Virginia @RegentU Presidential forum w...</td>\n",
       "      <td>3054</td>\n",
       "      <td>921</td>\n",
       "      <td>None</td>\n",
       "      <td>{u'country_code': u'US', u'url': u'https://api...</td>\n",
       "      <td>False</td>\n",
       "      <td>NaN</td>\n",
       "      <td>NaN</td>\n",
       "      <td>None</td>\n",
       "      <td>NaN</td>\n",
       "      <td>{u'symbols': [], u'user_mentions': [{u'indices...</td>\n",
       "      <td>trump</td>\n",
       "      <td>0.000000</td>\n",
       "      <td>indicative</td>\n",
       "      <td>0.75</td>\n",
       "    </tr>\n",
       "    <tr>\n",
       "      <th>3</th>\n",
       "      <td>702539414224936960</td>\n",
       "      <td>Wed Feb 24 17:03:43 +0000 2016</td>\n",
       "      <td>I am self funding my campaign &amp;amp; don't owe ...</td>\n",
       "      <td>6579</td>\n",
       "      <td>2259</td>\n",
       "      <td>None</td>\n",
       "      <td>None</td>\n",
       "      <td>False</td>\n",
       "      <td>NaN</td>\n",
       "      <td>NaN</td>\n",
       "      <td>None</td>\n",
       "      <td>NaN</td>\n",
       "      <td>{u'symbols': [], u'user_mentions': [], u'hasht...</td>\n",
       "      <td>trump</td>\n",
       "      <td>0.000000</td>\n",
       "      <td>indicative</td>\n",
       "      <td>0.55</td>\n",
       "    </tr>\n",
       "    <tr>\n",
       "      <th>4</th>\n",
       "      <td>702526610646429696</td>\n",
       "      <td>Wed Feb 24 16:12:50 +0000 2016</td>\n",
       "      <td>.@USATODAY Poll and @QuinnipiacPoll say that I...</td>\n",
       "      <td>6177</td>\n",
       "      <td>2341</td>\n",
       "      <td>None</td>\n",
       "      <td>None</td>\n",
       "      <td>False</td>\n",
       "      <td>NaN</td>\n",
       "      <td>NaN</td>\n",
       "      <td>None</td>\n",
       "      <td>NaN</td>\n",
       "      <td>{u'symbols': [], u'user_mentions': [{u'indices...</td>\n",
       "      <td>trump</td>\n",
       "      <td>0.000000</td>\n",
       "      <td>imperative</td>\n",
       "      <td>0.25</td>\n",
       "    </tr>\n",
       "  </tbody>\n",
       "</table>\n",
       "</div>"
      ],
      "text/plain": [
       "                   id                      created_at  \\\n",
       "0  702561529447763968  Wed Feb 24 18:31:36 +0000 2016   \n",
       "1  702560558269202433  Wed Feb 24 18:27:44 +0000 2016   \n",
       "2  702542084776001537  Wed Feb 24 17:14:20 +0000 2016   \n",
       "3  702539414224936960  Wed Feb 24 17:03:43 +0000 2016   \n",
       "4  702526610646429696  Wed Feb 24 16:12:50 +0000 2016   \n",
       "\n",
       "                                                text  favorite_count  \\\n",
       "0  MAKE AMERICA GREAT AGAIN! https://t.co/IVSR0hmh5g            4493   \n",
       "1  In all of television- the only one who said an...            3695   \n",
       "2  I am in Virginia @RegentU Presidential forum w...            3054   \n",
       "3  I am self funding my campaign &amp; don't owe ...            6579   \n",
       "4  .@USATODAY Poll and @QuinnipiacPoll say that I...            6177   \n",
       "\n",
       "   retweet_count coordinates  \\\n",
       "0           1917        None   \n",
       "1           1127        None   \n",
       "2            921        None   \n",
       "3           2259        None   \n",
       "4           2341        None   \n",
       "\n",
       "                                               place is_quote_status  \\\n",
       "0                                               None           False   \n",
       "1                                               None           False   \n",
       "2  {u'country_code': u'US', u'url': u'https://api...           False   \n",
       "3                                               None           False   \n",
       "4                                               None           False   \n",
       "\n",
       "  quoted_status  quoted_status_id in_reply_to_screen_name  \\\n",
       "0           NaN               NaN                    None   \n",
       "1           NaN               NaN                    None   \n",
       "2           NaN               NaN                    None   \n",
       "3           NaN               NaN                    None   \n",
       "4           NaN               NaN                    None   \n",
       "\n",
       "   in_reply_to_status_id                                           entities  \\\n",
       "0                    NaN  {u'symbols': [], u'user_mentions': [], u'hasht...   \n",
       "1                    NaN  {u'symbols': [], u'user_mentions': [{u'indices...   \n",
       "2                    NaN  {u'symbols': [], u'user_mentions': [{u'indices...   \n",
       "3                    NaN  {u'symbols': [], u'user_mentions': [], u'hasht...   \n",
       "4                    NaN  {u'symbols': [], u'user_mentions': [{u'indices...   \n",
       "\n",
       "  candidate  sentiment         mood  modality  \n",
       "0     trump   1.000000   imperative      1.00  \n",
       "1     trump  -0.233333  conditional      0.45  \n",
       "2     trump   0.000000   indicative      0.75  \n",
       "3     trump   0.000000   indicative      0.55  \n",
       "4     trump   0.000000   imperative      0.25  "
      ]
     },
     "execution_count": 198,
     "metadata": {},
     "output_type": "execute_result"
    }
   ],
   "source": [
    "test2.head()"
   ]
  },
  {
   "cell_type": "code",
   "execution_count": 178,
   "metadata": {
    "collapsed": false
   },
   "outputs": [
    {
     "name": "stdout",
     "output_type": "stream",
     "text": [
      "0.75\n",
      "indicative\n",
      "(0.0, 0.0)\n",
      "(-0.625, 0.875)\n"
     ]
    }
   ],
   "source": [
    "print modality(test)\n",
    "print mood(test)\n",
    "print sentiment(test)\n",
    "print wordnet.synsets('sad', ADJECTIVE)[0].weight # for single words only "
   ]
  },
  {
   "cell_type": "code",
   "execution_count": 140,
   "metadata": {
    "collapsed": false
   },
   "outputs": [
    {
     "data": {
      "text/html": [
       "<div>\n",
       "<table border=\"1\" class=\"dataframe\">\n",
       "  <thead>\n",
       "    <tr style=\"text-align: right;\">\n",
       "      <th></th>\n",
       "      <th>id</th>\n",
       "      <th>created_at</th>\n",
       "      <th>text</th>\n",
       "      <th>favorite_count</th>\n",
       "      <th>retweet_count</th>\n",
       "      <th>coordinates</th>\n",
       "      <th>place</th>\n",
       "      <th>is_quote_status</th>\n",
       "      <th>quoted_status</th>\n",
       "      <th>quoted_status_id</th>\n",
       "      <th>in_reply_to_screen_name</th>\n",
       "      <th>in_reply_to_status_id</th>\n",
       "      <th>entities</th>\n",
       "      <th>candidate</th>\n",
       "    </tr>\n",
       "  </thead>\n",
       "  <tbody>\n",
       "    <tr>\n",
       "      <th>0</th>\n",
       "      <td>702561529447763968</td>\n",
       "      <td>Wed Feb 24 18:31:36 +0000 2016</td>\n",
       "      <td>MAKE AMERICA GREAT AGAIN! https://t.co/IVSR0hmh5g</td>\n",
       "      <td>4493</td>\n",
       "      <td>1917</td>\n",
       "      <td>None</td>\n",
       "      <td>None</td>\n",
       "      <td>False</td>\n",
       "      <td>NaN</td>\n",
       "      <td>NaN</td>\n",
       "      <td>None</td>\n",
       "      <td>NaN</td>\n",
       "      <td>{u'symbols': [], u'user_mentions': [], u'hasht...</td>\n",
       "      <td>trump</td>\n",
       "    </tr>\n",
       "    <tr>\n",
       "      <th>1</th>\n",
       "      <td>702560558269202433</td>\n",
       "      <td>Wed Feb 24 18:27:44 +0000 2016</td>\n",
       "      <td>In all of television- the only one who said an...</td>\n",
       "      <td>3695</td>\n",
       "      <td>1127</td>\n",
       "      <td>None</td>\n",
       "      <td>None</td>\n",
       "      <td>False</td>\n",
       "      <td>NaN</td>\n",
       "      <td>NaN</td>\n",
       "      <td>None</td>\n",
       "      <td>NaN</td>\n",
       "      <td>{u'symbols': [], u'user_mentions': [{u'indices...</td>\n",
       "      <td>trump</td>\n",
       "    </tr>\n",
       "    <tr>\n",
       "      <th>2</th>\n",
       "      <td>702542084776001537</td>\n",
       "      <td>Wed Feb 24 17:14:20 +0000 2016</td>\n",
       "      <td>I am in Virginia @RegentU Presidential forum w...</td>\n",
       "      <td>3054</td>\n",
       "      <td>921</td>\n",
       "      <td>None</td>\n",
       "      <td>{u'country_code': u'US', u'url': u'https://api...</td>\n",
       "      <td>False</td>\n",
       "      <td>NaN</td>\n",
       "      <td>NaN</td>\n",
       "      <td>None</td>\n",
       "      <td>NaN</td>\n",
       "      <td>{u'symbols': [], u'user_mentions': [{u'indices...</td>\n",
       "      <td>trump</td>\n",
       "    </tr>\n",
       "    <tr>\n",
       "      <th>3</th>\n",
       "      <td>702539414224936960</td>\n",
       "      <td>Wed Feb 24 17:03:43 +0000 2016</td>\n",
       "      <td>I am self funding my campaign &amp;amp; don't owe ...</td>\n",
       "      <td>6579</td>\n",
       "      <td>2259</td>\n",
       "      <td>None</td>\n",
       "      <td>None</td>\n",
       "      <td>False</td>\n",
       "      <td>NaN</td>\n",
       "      <td>NaN</td>\n",
       "      <td>None</td>\n",
       "      <td>NaN</td>\n",
       "      <td>{u'symbols': [], u'user_mentions': [], u'hasht...</td>\n",
       "      <td>trump</td>\n",
       "    </tr>\n",
       "    <tr>\n",
       "      <th>4</th>\n",
       "      <td>702526610646429696</td>\n",
       "      <td>Wed Feb 24 16:12:50 +0000 2016</td>\n",
       "      <td>.@USATODAY Poll and @QuinnipiacPoll say that I...</td>\n",
       "      <td>6177</td>\n",
       "      <td>2341</td>\n",
       "      <td>None</td>\n",
       "      <td>None</td>\n",
       "      <td>False</td>\n",
       "      <td>NaN</td>\n",
       "      <td>NaN</td>\n",
       "      <td>None</td>\n",
       "      <td>NaN</td>\n",
       "      <td>{u'symbols': [], u'user_mentions': [{u'indices...</td>\n",
       "      <td>trump</td>\n",
       "    </tr>\n",
       "  </tbody>\n",
       "</table>\n",
       "</div>"
      ],
      "text/plain": [
       "                   id                      created_at  \\\n",
       "0  702561529447763968  Wed Feb 24 18:31:36 +0000 2016   \n",
       "1  702560558269202433  Wed Feb 24 18:27:44 +0000 2016   \n",
       "2  702542084776001537  Wed Feb 24 17:14:20 +0000 2016   \n",
       "3  702539414224936960  Wed Feb 24 17:03:43 +0000 2016   \n",
       "4  702526610646429696  Wed Feb 24 16:12:50 +0000 2016   \n",
       "\n",
       "                                                text  favorite_count  \\\n",
       "0  MAKE AMERICA GREAT AGAIN! https://t.co/IVSR0hmh5g            4493   \n",
       "1  In all of television- the only one who said an...            3695   \n",
       "2  I am in Virginia @RegentU Presidential forum w...            3054   \n",
       "3  I am self funding my campaign &amp; don't owe ...            6579   \n",
       "4  .@USATODAY Poll and @QuinnipiacPoll say that I...            6177   \n",
       "\n",
       "   retweet_count coordinates  \\\n",
       "0           1917        None   \n",
       "1           1127        None   \n",
       "2            921        None   \n",
       "3           2259        None   \n",
       "4           2341        None   \n",
       "\n",
       "                                               place is_quote_status  \\\n",
       "0                                               None           False   \n",
       "1                                               None           False   \n",
       "2  {u'country_code': u'US', u'url': u'https://api...           False   \n",
       "3                                               None           False   \n",
       "4                                               None           False   \n",
       "\n",
       "  quoted_status  quoted_status_id in_reply_to_screen_name  \\\n",
       "0           NaN               NaN                    None   \n",
       "1           NaN               NaN                    None   \n",
       "2           NaN               NaN                    None   \n",
       "3           NaN               NaN                    None   \n",
       "4           NaN               NaN                    None   \n",
       "\n",
       "   in_reply_to_status_id                                           entities  \\\n",
       "0                    NaN  {u'symbols': [], u'user_mentions': [], u'hasht...   \n",
       "1                    NaN  {u'symbols': [], u'user_mentions': [{u'indices...   \n",
       "2                    NaN  {u'symbols': [], u'user_mentions': [{u'indices...   \n",
       "3                    NaN  {u'symbols': [], u'user_mentions': [], u'hasht...   \n",
       "4                    NaN  {u'symbols': [], u'user_mentions': [{u'indices...   \n",
       "\n",
       "  candidate  \n",
       "0     trump  \n",
       "1     trump  \n",
       "2     trump  \n",
       "3     trump  \n",
       "4     trump  "
      ]
     },
     "execution_count": 140,
     "metadata": {},
     "output_type": "execute_result"
    }
   ],
   "source": [
    "tweets.head()"
   ]
  },
  {
   "cell_type": "code",
   "execution_count": null,
   "metadata": {
    "collapsed": true
   },
   "outputs": [],
   "source": []
  }
 ],
 "metadata": {
  "kernelspec": {
   "display_name": "Python 2",
   "language": "python",
   "name": "python2"
  },
  "language_info": {
   "codemirror_mode": {
    "name": "ipython",
    "version": 2
   },
   "file_extension": ".py",
   "mimetype": "text/x-python",
   "name": "python",
   "nbconvert_exporter": "python",
   "pygments_lexer": "ipython2",
   "version": "2.7.11"
  }
 },
 "nbformat": 4,
 "nbformat_minor": 0
}
